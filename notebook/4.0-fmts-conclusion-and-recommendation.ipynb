{
 "cells": [
  {
   "cell_type": "markdown",
   "metadata": {},
   "source": [
    "# **Saudi Arabia Used Car Price Prediction with Machine Learning**"
   ]
  },
  {
   "cell_type": "markdown",
   "metadata": {},
   "source": [
    "## **Contents**\n",
    "\n",
    "1. Business Problem Understanding \n",
    "2. Data Understanding, Data Cleaning, and Features Selection\n",
    "3. Data Preprocessing and Modeling\n",
    "4. Conclusion and Recommendation"
   ]
  },
  {
   "cell_type": "markdown",
   "metadata": {},
   "source": [
    "## **4. Conclussion dan Recomendation**"
   ]
  },
  {
   "cell_type": "markdown",
   "metadata": {},
   "source": [
    "### **Conclussion**\n",
    "\n"
   ]
  },
  {
   "cell_type": "markdown",
   "metadata": {},
   "source": [
    "After conducting a thorough evaluation of the model created, we can draw the following conclusions:\n",
    "\n",
    "- The best model obtained is XGBRegressor with the following parameters:\n",
    "  - **subsample:** 0.9\n",
    "  - **reg_alpha:** 0.0027825594022071257\n",
    "  - **random_state:** 38\n",
    "  - **n_estimators:** 164\n",
    "  - **max_depth:** 7\n",
    "  - **learning_rate:** 0.1\n",
    "  - **gamma:** 9\n",
    "  - **colsample_bytree:** 0.6\n",
    "\n",
    "- This model can be used to predict the prices of used cars in the range of 11,000 SAR to 575,000 SAR.\n",
    "\n",
    "- In this model, cars priced at 0 SAR were not included. This is because a price of 0 SAR is unacceptable in a business context. Additionally, the *Negotiable* feature related to this price was also excluded, as it merely indicates whether the price is 0 or not.\n",
    "\n",
    "- This model can predict prices based on the following features:\n",
    "  - **Type:** Range Rover, Optima, CX3, Cayenne S, Sonata, Avalon, C300, Land Cruiser, LS, FJ, Tucson, Pajero, Azera, Focus, Spark, Accent, ML, Corolla, Tahoe, Altima, Expedition, Santa Fe, Liberty, Land Cruiser Pickup, VTC, Malibu, Patrol, Grand Cherokee, SL, Previa, MKZ, Datsun, Hilux, Yukon, GLC, Edge, Innova, Navara, G80, Carnival, Suburban, Camaro, Accord, Sunny, Taurus, Camry, Elantra, Flex, Cerato, Land Cruiser 70, Charger, H6, Hiace, Fusion, Aveo, CX9, Yaris, Sierra, Durango, ES, Navigator, Opirus, Creta, CS35, GLE, Sedona, Victoria, Prestige, CLA, Vanquish, Safrane, Cadenza, Silverado, Rio, Maxima, X-Trail, Cruze, Prado, Caprice, Grand Marquis, LX, Impala, QX, Blazer, H1, Rav4, Genesis, Pathfinder, Traverse, SEL, Civic, Echo Sport, Challenger, Wrangler, A6, CX5, Mohave, Rush, Cherokee, Veloster, IS, Fluence, Vego, Marquis, Kona, Explorer, UX, Beetle, F150, Lancer, Mustang, DB9, Sorento, APV, Viano, Safari, RX, Platinum, Avanza, D-MAX, Coupe S, Odyssey, Panamera, Juke, Sportage, C200, GS, X-Terra, Picanto, CT5, KICKS, Gran Max, Cayman, A8, Levante, G, Montero, A3, Touareg, Passat, Delta, Acadia, H3, GS3, Coupe, Cayenne Turbo, Colorado, Vitara, Kaptiva, CLS, LF X60, Aurion, Koleos, Abeka, Flying Spur, Pilot, Ranger, Escalade, A7, Quattroporte, Compass, Bus Urvan, Macan, Azkarra, GL, City, Symbol, Ertiga, RX5, Envoy, CT6, Fleetwood, Tiggo, Q5, A4, XJ, H2, HS, Seltos, RX8, 301, EC8, 3008, Suvana, Prius, Eado, Royal, NX, Copper, CS75, F-Pace, Coolray, CS85, Jimny, GC7, A5, S300, Superb, Ram, Terrain, Cressida, 500, Armada, 5008, Tiguan, Golf, CS95, S5, 911, Camargue, Defender, Daily, Nitro, Mini Van, Pegas, Cores, Grand Vitara, FX, L300, Coaster, Discovery, Montero2, Z370, Bus County, Stinger, SRT, K5, CT4, F Type, CC, ASX, Carens, XT5, Tuscani, 4Runner, ATS, CRV, The 4, HRV, X7, GX, X40, Q7, ZS, G70, Megane, Power, B50, Town Car, Van, 2, i40, XF, RC, Doblo, MKX, Jetta, Soul, Dzire, Avante, CX7, Countryman, GTB 599 Fiorano, Prestige Plus, MKS, Milan, Savana, S8, and Others.\n",
    "  \n",
    "  - **Region:** Riyadh, Hafar Al-Batin, Abha, Makkah, Dammam, Jeddah, Khobar, Al-Baha, Jazan, Aseer, Al-Medina, Al-Namas, Qassim, Taef, Al-Ahsa, Sabya, Al-Jouf, Yanbu, Najran, Hail, Tabouk, Jubail, Wadi Dawasir, Arar, Besha, and Qurayyat.\n",
    "  \n",
    "  - **Make:** Land Rover, Kia, Mazda, Porsche, Hyundai, Toyota, Chrysler, Lexus, Mitsubishi, Ford, MG, Chevrolet, Mercedes, Nissan, Jeep, BMW, Lincoln, GMC, Genesis, Honda, Zhengzhou, Dodge, HAVAL, Cadillac, Changan, Aston Martin, Renault, Mercury, INFINITI, Audi, Rolls-Royce, BYD, Volkswagen, Victory Auto, Suzuki, Geely, Isuzu, Daihatsu, Maserati, Hummer, GAC, Lifan, Bentley, Chery, Jaguar, Peugeot, Foton, MINI, Škoda, Fiat, Iveco, FAW, Great Wall, Ferrari.\n",
    "  \n",
    "  - **Gear Type:** Automatic, Manual.\n",
    "  \n",
    "  - **Origin:** Gulf Arabic, Saudi, Other, Unknown.\n",
    "  \n",
    "  - **Options:** Full, Semi Full, Standard.\n",
    "  \n",
    "  - **Year:** 1978 - 2021.\n",
    "  \n",
    "  - **Engine Size:** 1 - 7.5 (L).\n",
    "  \n",
    "  - **Mileage:** 100 - 749,000 (km).\n",
    "\n",
    "- Based on the modeling conducted, the features 'Year', 'Full Option', and 'Engine Size' are the three most influential features on 'Price'.\n",
    "\n",
    "- Characteristics that lead to cars being increasingly expensive include a newer production year, larger engine size, lower mileage, full options, and originating from the Gulf Arabic region. Conversely, characteristics that result in cars being less expensive are an older production year, smaller engine size, higher mileage, standard options, and originating from Saudi Arabia.\n",
    "\n",
    "- The evaluation metrics used in this model are RMSE, MAE, and MAPE. After performing hyperparameter tuning, the model's MAPE value is approximately 21%. This indicates that if this model is used to estimate prices within the same range it was trained on (with a maximum price of 575,000 SAR), the average estimated price will deviate by about 21% from the actual price. Although this MAPE value may seem large, the error is still within a reasonable forecast range. This means the model can still be trusted.\n",
    "\n",
    "- An error of about 21% means we can trust this model approximately 79%. This level of accuracy is quite high, indicating that the objective of creating the model has been achieved, which is to build a model that can predict prices that are neither too high nor too low.\n",
    "\n",
    "- Based on the evaluation results, the error increases when predicting prices above 200,000 SAR. This is the primary reason for the larger errors in the model.\n"
   ]
  },
  {
   "cell_type": "markdown",
   "metadata": {},
   "source": [
    "### **Recomendation**"
   ]
  },
  {
   "cell_type": "markdown",
   "metadata": {},
   "source": [
    "To improve the model, the following steps can be taken:\n",
    "\n",
    "- **Model**\n",
    "\n",
    "  - This model can certainly be refined to generate better predictions. Before that, we can conduct A/B testing on the model developed in this project to measure its effectiveness in increasing the number of successful transactions compared to a manual method where sellers set their own prices. The results of this A/B testing can provide additional insights into aspects that need improvement in the model.\n",
    "\n",
    "  - According to the [International Monetary Fund](https://www.imf.org/external/datamapper/profile/SAU), the inflation rate in Saudi Arabia in 2024 is 2.3%. Considering inflation, the prices of used cars may vary significantly from the current data. Therefore, it is important to periodically update the data.\n",
    "\n",
    "  - We can try using a more complex model, such as Recursive Neural Networks (RNN), if more data is available. However, if the amount of data and features remains the same as in this dataset, changes in the model's results are usually not significant.\n",
    "\n",
    "  - In this project, hyperparameter tuning was performed using Random Search. This method was chosen based on time constraints and available computational resources. In Random Search, the best parameter combinations are searched randomly, and the best-performing results are selected. Not all possible combinations of parameters are tried. In the future, if the hardware used has higher specifications, Grid Search could be an option. With Grid Search, all parameter combinations will be tried, allowing for more optimal parameter selection. However, if device resources are still limited, Optuna can be a more efficient alternative to Random Search. Optuna works by exploring only those parameter combinations that are likely to produce optimal model performance.\n",
    "\n",
    "- **Business**\n",
    "\n",
    "  - Given that prediction errors increase when predicting prices above 200,000 SAR, it would be advisable to increase the data in that price range. Additionally, the model's performance can be improved by adding features that affect used car prices, such as the car's physical condition and accident history. For example, physical condition can indicate levels of damage, such as no scratches, minor scratches, moderate scratches, or heavy scratches. Accident history records the frequency of the car being involved in accidents, such as 0 if it has never been in an accident, 1 if it has had one accident, and so on.\n",
    "\n",
    "  - To get an initial idea of whether a car will be expensive or not, the most influential features such as 'Year', 'Full Option', and 'Engine Size' can be used as references. Cars that are more expensive are typically newer, equipped with full options, and have larger engine sizes. Conversely, car prices tend to be lower if they are older, have fewer features (non-full option), and have smaller engine sizes."
   ]
  }
 ],
 "metadata": {
  "language_info": {
   "name": "python"
  }
 },
 "nbformat": 4,
 "nbformat_minor": 2
}
