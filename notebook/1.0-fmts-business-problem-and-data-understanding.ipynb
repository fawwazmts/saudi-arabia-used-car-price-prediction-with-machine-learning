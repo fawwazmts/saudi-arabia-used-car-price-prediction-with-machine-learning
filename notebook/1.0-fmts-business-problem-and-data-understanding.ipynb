{
 "cells": [
  {
   "cell_type": "markdown",
   "metadata": {},
   "source": [
    "# **Saudi Arabia Used Car Price Prediction with Machine Learning**"
   ]
  },
  {
   "cell_type": "markdown",
   "metadata": {},
   "source": [
    "## **Contents**\n",
    "\n",
    "1. Business Problem Understanding \n",
    "2. Data Understanding, Data Cleaning, and Features Selection\n",
    "3. Data Preprocessing and Modeling\n",
    "4. Conclusion and Recommendation"
   ]
  },
  {
   "cell_type": "markdown",
   "metadata": {},
   "source": [
    "## **1. Business Problem Understanding**"
   ]
  },
  {
   "cell_type": "markdown",
   "metadata": {},
   "source": [
    "### **a. Context**"
   ]
  },
  {
   "cell_type": "markdown",
   "metadata": {},
   "source": [
    "According to [Mordor Intelligence](https://www.mordorintelligence.com/industry-reports/saudi-arabia-used-car-market/market-size), the used car market in Saudi Arabia is expected to experience significant growth due to factors such as the increasing demand for affordable vehicles and the growing popularity of online platforms that facilitate car sales. Online platforms such as syarah.com play a vital role in connecting sellers and buyers. These platforms provide a marketplace where people can list their cars for sale, and potential buyers can compare car options based on factors such as type, car manufacturer, mileage, and price. With so many listings, pricing a used car correctly can be a challenge. Sellers need to set a competitive price to attract buyers while maximizing their profits. Setting a price that is too high can discourage buyers from buying, while setting a price that is too low can result in significant losses for the seller. Pricing a car is not a simple task, as there are many factors that can affect the value of a vehicle."
   ]
  },
  {
   "cell_type": "markdown",
   "metadata": {},
   "source": [
    "### **b. Problem Statement**"
   ]
  },
  {
   "cell_type": "markdown",
   "metadata": {},
   "source": [
    "For used car trading platforms in Saudi Arabia such as syarah.com, one of the main challenges is to provide a solution that can help sellers set competitive yet profitable prices. Sellers often struggle to set prices that are attractive to buyers, while still providing adequate profits.\n",
    "\n",
    "For platforms like syarah.com, sellers are free to determine the price of their cars. By comparing similar vehicles, sellers can set their prices and can increase the price if they feel the vehicle has added value. **As more and more sellers use the platform, setting competitive prices becomes increasingly important for sellers to compete effectively.**"
   ]
  },
  {
   "cell_type": "markdown",
   "metadata": {},
   "source": [
    "### **c. Goals**\n",
    "\n",
    "Based on the above problems, syarah.com needs a tool that can predict and help sellers **determine the right price for each used car**. Variations in car features, such as brand, year of manufacture, mileage, engine size, and location, can increase the accuracy of price predictions. Thus, sellers can offer attractive prices to buyers while still ensuring their own profits. By increasing the accuracy of price predictions, syarah.com can increase the likelihood of successful transactions between sellers and buyers. This increase in transaction success will increase the volume of transactions on the platform, accelerate the growth of the used car business, and boost the company's income through sales commissions."
   ]
  },
  {
   "cell_type": "markdown",
   "metadata": {},
   "source": [
    "### **d. Analytic Approach**\n",
    "\n",
    "The analytical approach begins by analyzing and processing the data first to understand how various features affect the price of used cars. After that, several regression models will be developed to predict the price of used cars based on the processed features. Each model will be evaluated using relevant performance metrics to assess its prediction accuracy. The model with the best performance will be selected as the final model."
   ]
  },
  {
   "cell_type": "markdown",
   "metadata": {},
   "source": [
    "### **e. Evaluation Metric**\n",
    "\n",
    "The evaluation metrics that will be used are `RMSE` (Root Mean Squared Error), `MAE` (Mean Absolute Error), and `MAPE` (Mean Absolute Percentage Error).\n",
    "\n",
    "- RMSE (Root Mean Square Error)\n",
    "  \n",
    "  Root Mean Square Error (RMSE) is a measure that calculates the average of the square roots of prediction errors. A smaller RMSE value indicates that the model is more accurate in predicting car prices. RMSE places more emphasis on large errors, making it a good choice when significant errors are unacceptable. Thus, RMSE is effective in anticipating potential large errors that can have a significant impact on the final result.\n",
    "\n",
    "  The formula for RMSE can be stated as follows.\n",
    "  \n",
    "  $\\text{RMSE} = \\sqrt{\\frac{1}{n} \\sum_{i=1}^{n} (y_i - \\hat{y}_i)^2}$\n",
    "  \n",
    "  where:\n",
    "  \n",
    "  - $y_i: \\text{actual value}$\n",
    "  \n",
    "  - $\\hat{y}_i: \\text{predicted value}$\n",
    "  \n",
    "  - $n: \\text{number of observations}$\n",
    "\n",
    "- MAE (Mean Absolute Error)\n",
    "  \n",
    "  MAE (Mean Absolute Error) is a measure that calculates the average absolute error of the prediction. A smaller MAE value indicates that the model is more accurate in predicting car prices. By giving equal weight to each error, MAE provides a fair assessment of the error distribution. In addition, MAE is useful for minimizing the impact of outliers and extreme errors, allowing focus on the more common average error.\n",
    "\n",
    "  The formula for MAE can be stated as follows.\n",
    "\n",
    "  $\\text{MAE}: \\frac{1}{n} \\sum_{i=1}^{n} |y_i - \\hat{y}_i|$\n",
    "\n",
    "  where:\n",
    "  \n",
    "  - $y_i: \\text{actual value}$\n",
    "  \n",
    "  - $\\hat{y}_i: \\text{predicted value}$\n",
    "  \n",
    "  - $n: \\text{number of observations}$\n",
    "\n",
    "- Mean Absolute Percentage Error (MAPE)\n",
    "  \n",
    "  MAPE (Mean Absolute Percentage Error) is a measure that calculates the average percentage of prediction errors. A smaller MAPE value indicates a higher model accuracy in predicting car prices. MAPE provides a more interpretable context, making it useful for comparing model performance across datasets, especially when there is a large variation in actual values. By calculating the error as a percentage of the actual value, MAPE reduces the influence of outliers, making it relevant for business analysis where the proportion of errors matters. MAPE is ideal for understanding model performance in a percentage context, ensuring that smaller errors relative to larger values ​​receive the proper attention.\n",
    "\n",
    "  The formula for MAPE can be stated as follows.\n",
    "  \n",
    "  $\\text{MAPE} = \\frac{1}{n} \\sum_{i=1}^{n} \\left| \\frac{y_i - \\hat{y}_i}{y_i} \\right| \\times 100$\n",
    "\n",
    "  where:\n",
    "  \n",
    "  - $y_i: \\text{actual value}$\n",
    "  \n",
    "  - $\\hat{y}_i: \\text{predicted value}$\n",
    "  \n",
    "  - $n: \\text{number of observations}$\n",
    "  \n",
    "For linear models, `R-squared` can also be used to assess how well the model explains the variability of the data. R-squared values ​​​​close to 1 indicate a high model fit, but this metric is not relevant for non-linear models."
   ]
  }
 ],
 "metadata": {
  "language_info": {
   "name": "python"
  }
 },
 "nbformat": 4,
 "nbformat_minor": 2
}
